{
  "nbformat": 4,
  "nbformat_minor": 0,
  "metadata": {
    "colab": {
      "provenance": [],
      "include_colab_link": true
    },
    "kernelspec": {
      "name": "python3",
      "display_name": "Python 3"
    },
    "language_info": {
      "name": "python"
    },
    "accelerator": "GPU",
    "gpuClass": "standard"
  },
  "cells": [
    {
      "cell_type": "markdown",
      "metadata": {
        "id": "view-in-github",
        "colab_type": "text"
      },
      "source": [
        "<a href=\"https://colab.research.google.com/github/lovezoyaxu/car-following-model-in-mixtraffic/blob/main/mixtraffic_NN_LSTM_RNN.ipynb\" target=\"_parent\"><img src=\"https://colab.research.google.com/assets/colab-badge.svg\" alt=\"Open In Colab\"/></a>"
      ]
    },
    {
      "cell_type": "markdown",
      "source": [
        "### **import some useful lib**"
      ],
      "metadata": {
        "id": "Y-wPL2B1PVNq"
      }
    },
    {
      "cell_type": "code",
      "source": [
        "import scipy.io as sio\n",
        "from torch import nn, optim\n",
        "import torch\n",
        "from torch.utils.data import DataLoader\n",
        "import numpy as np\n",
        "import matplotlib.pyplot as plt\n",
        "import gym"
      ],
      "metadata": {
        "id": "Fi2UnMjAI6ia"
      },
      "execution_count": null,
      "outputs": []
    },
    {
      "cell_type": "code",
      "source": [
        "ACC_LIMIT = 3 # the limit of acceleration, this can be calibrated based on the data\n",
        "Ts = 0.1 # time interval for data sampling"
      ],
      "metadata": {
        "id": "efJGrpjjtsQy"
      },
      "execution_count": null,
      "outputs": []
    },
    {
      "cell_type": "markdown",
      "source": [
        "### **Load data**\n",
        "When in use choice HV-HV or HV-AV.\n",
        "*Please don't click code both!*"
      ],
      "metadata": {
        "id": "SMeIFHFAPwIa"
      }
    },
    {
      "cell_type": "markdown",
      "source": [
        "HV follow AV"
      ],
      "metadata": {
        "id": "VbrDSdZouxni"
      }
    },
    {
      "cell_type": "code",
      "execution_count": null,
      "metadata": {
        "id": "LRPC-BKm2FEp",
        "colab": {
          "base_uri": "https://localhost:8080/"
        },
        "outputId": "d1b3b5de-5c1d-49d2-81f9-bd7d3ba268ca"
      },
      "outputs": [
        {
          "output_type": "stream",
          "name": "stdout",
          "text": [
            "--2024-05-20 07:33:51--  https://raw.githubusercontent.com/lovezoyaxu/car-following-model-in-mixtraffic/master/L1T100_av_train_data.mat\n",
            "Resolving raw.githubusercontent.com (raw.githubusercontent.com)... 185.199.111.133, 185.199.110.133, 185.199.109.133, ...\n",
            "Connecting to raw.githubusercontent.com (raw.githubusercontent.com)|185.199.111.133|:443... connected.\n",
            "HTTP request sent, awaiting response... 200 OK\n",
            "Length: 712807 (696K) [application/octet-stream]\n",
            "Saving to: ‘trainSet.mat’\n",
            "\n",
            "trainSet.mat        100%[===================>] 696.10K  --.-KB/s    in 0.01s   \n",
            "\n",
            "2024-05-20 07:33:51 (62.3 MB/s) - ‘trainSet.mat’ saved [712807/712807]\n",
            "\n",
            "--2024-05-20 07:33:51--  https://raw.githubusercontent.com/lovezoyaxu/car-following-model-in-mixtraffic/master/L1T100_av_test_data.mat\n",
            "Resolving raw.githubusercontent.com (raw.githubusercontent.com)... 185.199.111.133, 185.199.109.133, 185.199.108.133, ...\n",
            "Connecting to raw.githubusercontent.com (raw.githubusercontent.com)|185.199.111.133|:443... connected.\n",
            "HTTP request sent, awaiting response... 200 OK\n",
            "Length: 179347 (175K) [application/octet-stream]\n",
            "Saving to: ‘testSet.mat’\n",
            "\n",
            "testSet.mat         100%[===================>] 175.14K  --.-KB/s    in 0.004s  \n",
            "\n",
            "2024-05-20 07:33:51 (42.2 MB/s) - ‘testSet.mat’ saved [179347/179347]\n",
            "\n"
          ]
        }
      ],
      "source": [
        "# Download data\n",
        "!wget https://raw.githubusercontent.com/lovezoyaxu/car-following-model-in-mixtraffic/master/L1T100_av_train_data.mat --output-document=trainSet.mat\n",
        "!wget https://raw.githubusercontent.com/lovezoyaxu/car-following-model-in-mixtraffic/master/L1T100_av_test_data.mat --output-document=testSet.mat"
      ]
    },
    {
      "cell_type": "markdown",
      "source": [
        "HV follow HV"
      ],
      "metadata": {
        "id": "caGcnUb5u4eS"
      }
    },
    {
      "cell_type": "code",
      "source": [
        "# Download data\n",
        "!wget https://raw.githubusercontent.com/lovezoyaxu/car-following-model-in-mixtraffic/master/L1T100_waymo_train_data.mat --output-document=trainSet.mat\n",
        "!wget https://raw.githubusercontent.com/lovezoyaxu/car-following-model-in-mixtraffic/master/L1T100_waymo_test_data.mat --output-document=testSet.mat"
      ],
      "metadata": {
        "id": "4acxLppQu6id",
        "colab": {
          "base_uri": "https://localhost:8080/"
        },
        "outputId": "41935200-9ce7-480f-ce98-52ce4b974fcd"
      },
      "execution_count": null,
      "outputs": [
        {
          "output_type": "stream",
          "name": "stdout",
          "text": [
            "--2024-05-19 07:39:57--  https://raw.githubusercontent.com/lovezoyaxu/car-following-model-in-mixtraffic/master/L1T100_waymo_train_data.mat\n",
            "Resolving raw.githubusercontent.com (raw.githubusercontent.com)... 185.199.108.133, 185.199.111.133, 185.199.110.133, ...\n",
            "Connecting to raw.githubusercontent.com (raw.githubusercontent.com)|185.199.108.133|:443... connected.\n",
            "HTTP request sent, awaiting response... 200 OK\n",
            "Length: 2111996 (2.0M) [application/octet-stream]\n",
            "Saving to: ‘trainSet.mat’\n",
            "\n",
            "trainSet.mat        100%[===================>]   2.01M  --.-KB/s    in 0.08s   \n",
            "\n",
            "2024-05-19 07:39:58 (26.4 MB/s) - ‘trainSet.mat’ saved [2111996/2111996]\n",
            "\n",
            "--2024-05-19 07:39:58--  https://raw.githubusercontent.com/lovezoyaxu/car-following-model-in-mixtraffic/master/L1T100_waymo_test_data.mat\n",
            "Resolving raw.githubusercontent.com (raw.githubusercontent.com)... 185.199.109.133, 185.199.108.133, 185.199.111.133, ...\n",
            "Connecting to raw.githubusercontent.com (raw.githubusercontent.com)|185.199.109.133|:443... connected.\n",
            "HTTP request sent, awaiting response... 200 OK\n",
            "Length: 556049 (543K) [application/octet-stream]\n",
            "Saving to: ‘testSet.mat’\n",
            "\n",
            "testSet.mat         100%[===================>] 543.02K  --.-KB/s    in 0.05s   \n",
            "\n",
            "2024-05-19 07:39:58 (11.2 MB/s) - ‘testSet.mat’ saved [556049/556049]\n",
            "\n"
          ]
        }
      ]
    },
    {
      "cell_type": "markdown",
      "source": [
        "### **inport data in colab**"
      ],
      "metadata": {
        "id": "6iTqrMu4veQf"
      }
    },
    {
      "cell_type": "code",
      "source": [
        "# load training data\n",
        "train = sio.loadmat('trainSet.mat')['calibrationData'][:, 0]\n",
        "test = sio.loadmat(f'testSet.mat')['validationData'][:, 0]\n"
      ],
      "metadata": {
        "id": "lWPkk8cx2Nj6"
      },
      "execution_count": null,
      "outputs": []
    },
    {
      "cell_type": "markdown",
      "source": [
        "check data shape"
      ],
      "metadata": {
        "id": "Vs2TryaGvvkU"
      }
    },
    {
      "cell_type": "code",
      "source": [
        "train.shape"
      ],
      "metadata": {
        "colab": {
          "base_uri": "https://localhost:8080/"
        },
        "id": "u3jZkSO46biB",
        "outputId": "c75bbd65-b88b-4217-b477-469c4ae5b9d0"
      },
      "execution_count": null,
      "outputs": [
        {
          "output_type": "execute_result",
          "data": {
            "text/plain": [
              "(135,)"
            ]
          },
          "metadata": {},
          "execution_count": 5
        }
      ]
    },
    {
      "cell_type": "code",
      "source": [
        "plt.plot(train[0][:,0])\n",
        "plt.plot(test[0][:,0])"
      ],
      "metadata": {
        "colab": {
          "base_uri": "https://localhost:8080/",
          "height": 448
        },
        "id": "I3wqhwnT60gH",
        "outputId": "ce3a68fa-8345-4b76-80c3-e8aede381ce9"
      },
      "execution_count": null,
      "outputs": [
        {
          "output_type": "execute_result",
          "data": {
            "text/plain": [
              "[<matplotlib.lines.Line2D at 0x79e94c28f220>]"
            ]
          },
          "metadata": {},
          "execution_count": 6
        },
        {
          "output_type": "display_data",
          "data": {
            "text/plain": [
              "<Figure size 640x480 with 1 Axes>"
            ],
            "image/png": "[encoded data removed]"
          },
          "metadata": {}
        }
      ]
    },
    {
      "cell_type": "markdown",
      "source": [
        "## Define torch dataset class"
      ],
      "metadata": {
        "id": "HqP61WQJP6qw"
      }
    },
    {
      "cell_type": "code",
      "source": [
        "# Define dataset\n",
        "class ImitationCarFolData(torch.utils.data.Dataset):\n",
        "    \"\"\"\n",
        "    Dataset class for imitation learning (state -> action fitting) based car-following models.\n",
        "    \"\"\"\n",
        "    def __init__(self, split: str, max_len = 100):\n",
        "        if split == 'train':\n",
        "            self.data = sio.loadmat(f'{split}Set.mat')['calibrationData'][:, 0]\n",
        "        elif split == 'test':\n",
        "            self.data = sio.loadmat(f'{split}Set.mat')['validationData'][:, 0]\n",
        "            #self.data = self.data[0]\n",
        "\n",
        "        self.max_len = max_len # Max length of a car following event.\n",
        "\n",
        "    def __len__(self):\n",
        "        return len(self.data)\n",
        "\n",
        "    def __getitem__(self, idx: int):\n",
        "        event = self.data[idx][:self.max_len]\n",
        "        #event = self.data[idx]\n",
        "        acc_label = np.diff(event[:, 1])/Ts # acc\n",
        "        inputs = event[:-1, :-1]\n",
        "        lv_spd = event[:-1, -1]\n",
        "        return {'inputs': inputs, 'label': acc_label, 'lv_spd': lv_spd}"
      ],
      "metadata": {
        "id": "vQuKeWoKJ94v"
      },
      "execution_count": null,
      "outputs": []
    },
    {
      "cell_type": "code",
      "source": [
        "dataset = ImitationCarFolData('train')\n",
        "dataset[0]['inputs'].shape, dataset[0]['label'].shape"
      ],
      "metadata": {
        "id": "HTJuw0TO8GPf",
        "colab": {
          "base_uri": "https://localhost:8080/"
        },
        "outputId": "5e1134b9-419d-4f14-eede-581e0c20dac3"
      },
      "execution_count": null,
      "outputs": [
        {
          "output_type": "execute_result",
          "data": {
            "text/plain": [
              "((99, 3), (99,))"
            ]
          },
          "metadata": {},
          "execution_count": 8
        }
      ]
    },
    {
      "cell_type": "markdown",
      "source": [
        "## Define backbone models"
      ],
      "metadata": {
        "id": "mxZOsdbQPyvi"
      }
    },
    {
      "cell_type": "code",
      "source": [
        "# Define data-driven car-following models\n",
        "class nn_model(nn.Module):\n",
        "    def __init__(self, input_size = 3, hidden_size = 256):\n",
        "        super(nn_model, self).__init__()\n",
        "        self.encoder = nn.Sequential(\n",
        "            nn.Linear(input_size, hidden_size),\n",
        "            nn.ReLU(),\n",
        "            nn.Linear(hidden_size, hidden_size),\n",
        "            nn.ReLU(),\n",
        "            nn.Linear(hidden_size, 1),\n",
        "            nn.Tanh(), #[-1, 1]\n",
        "            )\n",
        "\n",
        "    def forward(self, x):\n",
        "        # x: [space, relspd, speed]\n",
        "        out = ACC_LIMIT*self.encoder(x)\n",
        "        return out\n",
        "\n",
        "class lstm_model(nn.Module):\n",
        "    # https://pytorch.org/docs/stable/generated/torch.nn.LSTM.html\n",
        "    def __init__(self, input_size = 3, hidden_size = 32, lstm_layers = 3, dropout = 0.1):\n",
        "        super(lstm_model, self).__init__()\n",
        "        self.encoder = nn.LSTM(input_size, hidden_size, lstm_layers, batch_first = False, dropout = dropout)\n",
        "        self.linear = nn.Linear(hidden_size, 1)\n",
        "\n",
        "        nn.init.normal_(self.linear.weight, 0, .02)\n",
        "        nn.init.constant_(self.linear.bias, 0.0)\n",
        "\n",
        "    def forward(self, src):\n",
        "        # src in the shape seq_len, B, d\n",
        "        enc_x, (h_n, c_n) = self.encoder(src)\n",
        "\n",
        "        if len(h_n.shape) == 3:\n",
        "            h_n = h_n[-1] # taking the last layer hidden state\n",
        "\n",
        "        out = self.linear(h_n)\n",
        "        out = torch.tanh(out)*ACC_LIMIT\n",
        "        return out\n",
        "\n",
        "class rnn_model(nn.Module):\n",
        "    def __init__(self, input_size = 3, hidden_size = 32, rnn_layers = 3, dropout = 0.1):\n",
        "        super(rnn_model, self).__init__()\n",
        "        self.encoder = nn.RNN(input_size, hidden_size, rnn_layers, batch_first = False, dropout = dropout)\n",
        "        self.linear = nn.Linear(hidden_size, 1)\n",
        "\n",
        "        nn.init.normal_(self.linear.weight, 0, .02)\n",
        "        nn.init.constant_(self.linear.bias, 0.0)\n",
        "\n",
        "    def forward(self, src):\n",
        "        # src in the shape seq_len, B, d\n",
        "        enc_x, h_n = self.encoder(src)\n",
        "\n",
        "        if len(h_n.shape) == 3:\n",
        "            h_n = h_n[-1] # taking the last layer hidden state\n",
        "\n",
        "        out = self.linear(h_n)\n",
        "        out = torch.tanh(out)*ACC_LIMIT\n",
        "        return out"
      ],
      "metadata": {
        "id": "eLIzpCR1HGf1"
      },
      "execution_count": null,
      "outputs": []
    },
    {
      "cell_type": "markdown",
      "source": [
        "## Open-loop training"
      ],
      "metadata": {
        "id": "t--pmmrlP_VN"
      }
    },
    {
      "cell_type": "code",
      "source": [
        "# Train\n",
        "train_dataset = ImitationCarFolData(split = 'train')\n",
        "train_loader = DataLoader(\n",
        "        train_dataset,\n",
        "        batch_size=32,\n",
        "        shuffle=True,\n",
        "        num_workers=1,\n",
        "        drop_last=True)\n",
        "\n",
        "device = torch.device(\"cuda:0\" if torch.cuda.is_available() else \"cpu\")\n",
        "print(device)\n",
        "\n",
        "model_type = 'lstm'\n",
        "his_horizon = 10 # number of time steps as history data\n",
        "lr = 1e-3 # learning rate\n",
        "save = f'{model_type}_horizon{his_horizon}.pt'\n",
        "\n",
        "if model_type == 'nn':\n",
        "    model = nn_model(input_size = his_horizon*3).to(device)\n",
        "elif model_type == 'lstm':\n",
        "    model = lstm_model(input_size = 3, lstm_layers = 1).to(device) # single layer lstm\n",
        "elif model_type == 'rnn':\n",
        "    model = rnn_model(input_size = 3, rnn_layers = 1).to(device) # single layer rnn\n",
        "\n",
        "model_optim = optim.Adam(model.parameters(), lr=lr)\n",
        "criterion = nn.MSELoss()\n",
        "\n",
        "total_epochs = 20\n",
        "\n",
        "train_loss_his = []\n",
        "best_train_loss = None\n",
        "model.train()\n",
        "\n",
        "for epoch in range(total_epochs):\n",
        "    train_losses = []\n",
        "\n",
        "    for i, item in enumerate(train_loader):\n",
        "        x_data, y_data = item['inputs'].float().to(device), item['label'].float().to(device)\n",
        "\n",
        "        # Put T into the first dimension, B, T, d -> T, B, d\n",
        "        x_data, y_data = x_data.transpose(0, 1), y_data.transpose(0, 1)\n",
        "\n",
        "        T, B, d = x_data.shape # (total steps, batch_size, d) as the shape of the data\n",
        "\n",
        "        y_pre = torch.zeros(T - his_horizon, B).to(device)\n",
        "        y_label = y_data[his_horizon:]\n",
        "\n",
        "        for frame in range(his_horizon, T):\n",
        "            x = x_data[frame-his_horizon:frame] # (his_horizon, B, d)\n",
        "            if model_type == 'nn': # (B, his_horizon*d)\n",
        "              x = x.transpose(0,1).reshape(B, -1) # flatten for history data\n",
        "\n",
        "            acc_pre = model(x).squeeze()\n",
        "            y_pre[frame - his_horizon] = acc_pre\n",
        "\n",
        "        loss = criterion(y_pre, y_label)\n",
        "\n",
        "        model_optim.zero_grad()\n",
        "        loss.backward()\n",
        "        torch.nn.utils.clip_grad_norm_(model.parameters(), 0.25)\n",
        "        model_optim.step()\n",
        "\n",
        "        train_losses.append(loss.item())\n",
        "\n",
        "    train_loss = np.mean(train_losses)\n",
        "\n",
        "    if best_train_loss is None or best_train_loss > train_loss:\n",
        "        best_train_loss = train_loss\n",
        "        # save the best model\n",
        "        with open(save, 'wb') as f:\n",
        "            torch.save(model, f)\n",
        "\n",
        "    train_loss_his.append(train_loss)\n",
        "\n",
        "    print(\"Epoch: {0}| Train Loss: {1:.7f}\".format(epoch + 1, train_loss))\n",
        "\n",
        "plt.plot(train_loss_his)\n",
        "plt.xlabel('Epoch')\n",
        "plt.ylabel('Train loss (MSE for acceleration prediction)');"
      ],
      "metadata": {
        "colab": {
          "base_uri": "https://localhost:8080/",
          "height": 888
        },
        "id": "Mnlfw9UuqT7b",
        "outputId": "cdff1255-862a-40eb-f8f1-75981d4ace2a"
      },
      "execution_count": null,
      "outputs": [
        {
          "output_type": "stream",
          "name": "stdout",
          "text": [
            "cuda:0\n"
          ]
        },
        {
          "output_type": "stream",
          "name": "stderr",
          "text": [
            "/usr/local/lib/python3.10/dist-packages/torch/nn/modules/rnn.py:83: UserWarning: dropout option adds dropout after all but last recurrent layer, so non-zero dropout expects num_layers greater than 1, but got dropout=0.1 and num_layers=1\n",
            "  warnings.warn(\"dropout option adds dropout after all but last \"\n"
          ]
        },
        {
          "output_type": "stream",
          "name": "stdout",
          "text": [
            "Epoch: 1| Train Loss: 0.5191828\n",
            "Epoch: 2| Train Loss: 0.5180594\n",
            "Epoch: 3| Train Loss: 0.5113651\n",
            "Epoch: 4| Train Loss: 0.4887626\n",
            "Epoch: 5| Train Loss: 0.4860253\n",
            "Epoch: 6| Train Loss: 0.4649279\n",
            "Epoch: 7| Train Loss: 0.4469790\n",
            "Epoch: 8| Train Loss: 0.4445337\n",
            "Epoch: 9| Train Loss: 0.4258016\n",
            "Epoch: 10| Train Loss: 0.3719473\n",
            "Epoch: 11| Train Loss: 0.3736783\n",
            "Epoch: 12| Train Loss: 0.3412081\n",
            "Epoch: 13| Train Loss: 0.3131489\n",
            "Epoch: 14| Train Loss: 0.2755114\n",
            "Epoch: 15| Train Loss: 0.2664476\n",
            "Epoch: 16| Train Loss: 0.2620096\n",
            "Epoch: 17| Train Loss: 0.2541805\n",
            "Epoch: 18| Train Loss: 0.2513549\n",
            "Epoch: 19| Train Loss: 0.2549324\n",
            "Epoch: 20| Train Loss: 0.2462779\n"
          ]
        },
        {
          "output_type": "display_data",
          "data": {
            "text/plain": [
              "<Figure size 640x480 with 1 Axes>"
            ],
            "image/png": "[encoded data removed]"
          },
          "metadata": {}
        }
      ]
    },
    {
      "cell_type": "markdown",
      "source": [
        "check the result"
      ],
      "metadata": {
        "id": "n_VeOM-k0lLd"
      }
    },
    {
      "cell_type": "code",
      "source": [
        "# Load the best model saved\n",
        "with open(f'{save}', 'rb') as f:\n",
        "    model = torch.load(f).to(device)\n",
        "model.eval()\n",
        "\n",
        "select_segment = 7\n",
        "\n",
        "test1 = test[select_segment]\n",
        "test2 = test1[:, :3]\n",
        "x_data = test1[:-1, :3]\n",
        "y_data = np.diff(test2[:, 1])/Ts\n",
        "lv_spd = test[select_segment][:-1,-1]\n",
        "\n",
        "T, d = x_data.shape\n",
        "\n",
        "x_data = torch.tensor(x_data).unsqueeze(0).float().to(device)\n",
        "y_data = torch.tensor(y_data).unsqueeze(0).float().to(device)\n",
        "lv_spd = torch.tensor(lv_spd).unsqueeze(0).float().to(device)\n",
        "# print(x_data.shape)\n",
        "# print(y_data.shape)\n",
        "# print(lv_spd.shape)\n",
        "\n",
        "x_data, y_data = x_data.transpose(0, 1), y_data.transpose(0, 1)\n",
        "lv_spd = lv_spd.float().to(device).transpose(0, 1)\n",
        "\n",
        "x_data_orig = x_data.clone().detach()\n",
        "# print(x_data.shape)\n",
        "# print(y_data.shape)\n",
        "# print(lv_spd.shape)\n",
        "\n",
        "for frame in range(his_horizon, T):\n",
        "    x = x_data[frame-his_horizon:frame] # (his_horizon, B, d)\n",
        "    if model_type == 'nn':\n",
        "      x = x.transpose(0,1).reshape(1, -1) # flatten for history data\n",
        "\n",
        "    acc_pre = model(x).squeeze()\n",
        "\n",
        "    # update next data\n",
        "    if frame < T-1:\n",
        "      sv_spd_ = x_data[frame, :, 1] + acc_pre*Ts\n",
        "      delta_v_ = lv_spd[frame + 1] - sv_spd_\n",
        "      delta_v = x_data[frame, :, -1]\n",
        "      spacing_ = x_data[frame, :, 0] + Ts*(delta_v + delta_v_)/2\n",
        "\n",
        "      # update\n",
        "      next_frame_data = torch.stack((spacing_, sv_spd_, delta_v_)).transpose(0, 1) # B, 3\n",
        "      x_data[frame + 1] = next_frame_data\n",
        "\n",
        "      # Calculating spacing error for the closed-loop simulation\n",
        "spacing_pre = x_data[..., 0]\n",
        "spacing_obs = x_data_orig[..., 0]\n"
      ],
      "metadata": {
        "id": "0tCFy6cT1CQ-"
      },
      "execution_count": null,
      "outputs": []
    },
    {
      "cell_type": "code",
      "source": [
        "# plot for one event\n",
        "event_no = 0\n",
        "#print(spacing_obs)\n",
        "spacing_ob = spacing_obs[:, event_no].cpu().detach().numpy()\n",
        "spacing_pr = spacing_pre[:, event_no].cpu().detach().numpy()\n",
        "plt.plot(spacing_ob, label = 'GT')\n",
        "plt.plot(spacing_pr, '--', label = 'prediction')\n",
        "plt.legend()\n",
        "plt.xlabel(f'Time ({Ts}s)')\n",
        "plt.ylabel('Spacing (m)')\n",
        "\n",
        "# speed part\n",
        "plt.figure()\n",
        "x_data_orig = x_data_orig[:, event_no, 1].cpu().detach().numpy()\n",
        "x_data = x_data[:, event_no, 1].cpu().detach().numpy()\n",
        "plt.plot(x_data_orig, label = 'GT')\n",
        "plt.plot(x_data, '--', label = 'prediction')\n",
        "plt.legend()\n",
        "plt.xlabel(f'Time ({Ts}s)')\n",
        "plt.ylabel('SV speed (m/s)')\n"
      ],
      "metadata": {
        "id": "Hk3DYUfn25sh"
      },
      "execution_count": null,
      "outputs": []
    }
  ]
}