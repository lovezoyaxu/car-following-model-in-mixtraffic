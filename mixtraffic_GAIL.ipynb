{
  "nbformat": 4,
  "nbformat_minor": 0,
  "metadata": {
    "colab": {
      "provenance": [],
      "authorship_tag": "ABX9TyPXh6LX3hhhuDMzXlZd8bwh",
      "include_colab_link": true
    },
    "kernelspec": {
      "name": "python3",
      "display_name": "Python 3"
    },
    "language_info": {
      "name": "python"
    }
  },
  "cells": [
    {
      "cell_type": "markdown",
      "metadata": {
        "id": "view-in-github",
        "colab_type": "text"
      },
      "source": [
        "<a href=\"https://colab.research.google.com/github/lovezoyaxu/car-following-model-in-mixtraffic/blob/main/mixtraffic_GAIL.ipynb\" target=\"_parent\"><img src=\"https://colab.research.google.com/assets/colab-badge.svg\" alt=\"Open In Colab\"/></a>"
      ]
    },
    {
      "cell_type": "markdown",
      "source": [
        "get idea from:https://github.com/boyu-ai/Hands-on-RL"
      ],
      "metadata": {
        "id": "ilCa5NKqF4sz"
      }
    },
    {
      "cell_type": "code",
      "source": [
        "import gym\n",
        "import torch\n",
        "import torch.nn.functional as F\n",
        "import torch.nn as nn\n",
        "import numpy as np\n",
        "import matplotlib.pyplot as plt\n",
        "from tqdm import tqdm\n",
        "import random\n",
        "import scipy.io as sio"
      ],
      "metadata": {
        "id": "tnvaLLFWGeNU"
      },
      "execution_count": null,
      "outputs": []
    },
    {
      "cell_type": "markdown",
      "source": [
        "### **Get data**"
      ],
      "metadata": {
        "id": "2YWeOOZWNkr2"
      }
    },
    {
      "cell_type": "markdown",
      "source": [
        "download data"
      ],
      "metadata": {
        "id": "dz9qESCuNnw1"
      }
    },
    {
      "cell_type": "markdown",
      "source": [
        "HV follow AV"
      ],
      "metadata": {
        "id": "EoXhAsBT7kUG"
      }
    },
    {
      "cell_type": "code",
      "source": [
        "# Download data\n",
        "!wget https://raw.githubusercontent.com/lovezoyaxu/car-following-model-in-mixtraffic/master/L1T100_av_train_data.mat --output-document=trainSet.mat\n",
        "!wget https://raw.githubusercontent.com/lovezoyaxu/car-following-model-in-mixtraffic/master/L1T100_av_test_data.mat --output-document=testSet.mat\n",
        "\n",
        "# load training data\n",
        "train = sio.loadmat('trainSet.mat')['calibrationData'][:, 0]\n",
        "test = sio.loadmat(f'testSet.mat')['validationData'][:, 0]\n",
        "\n",
        "# variable for the columns are [space, svSpd, relSpd, lvSpd], time interval is 0.1 seconds.\n",
        "# speed in m/s, space in m.\n",
        "train.shape, test.shape"
      ],
      "metadata": {
        "colab": {
          "base_uri": "https://localhost:8080/"
        },
        "id": "FXJP_hPaNr5t",
        "outputId": "f1212b0d-9343-4d29-be54-00477f951274"
      },
      "execution_count": null,
      "outputs": [
        {
          "output_type": "stream",
          "name": "stdout",
          "text": [
            "--2024-05-13 06:54:12--  https://raw.githubusercontent.com/MeixinZhu/Velocity_control/master/trainSet.mat\n",
            "Resolving raw.githubusercontent.com (raw.githubusercontent.com)... 185.199.109.133, 185.199.110.133, 185.199.111.133, ...\n",
            "Connecting to raw.githubusercontent.com (raw.githubusercontent.com)|185.199.109.133|:443... connected.\n",
            "HTTP request sent, awaiting response... 200 OK\n",
            "Length: 6852673 (6.5M) [application/octet-stream]\n",
            "Saving to: ‘trainSet.mat’\n",
            "\n",
            "trainSet.mat        100%[===================>]   6.54M  --.-KB/s    in 0.1s    \n",
            "\n",
            "2024-05-13 06:54:13 (56.5 MB/s) - ‘trainSet.mat’ saved [6852673/6852673]\n",
            "\n",
            "--2024-05-13 06:54:13--  https://raw.githubusercontent.com/MeixinZhu/Velocity_control/master/testSet.mat\n",
            "Resolving raw.githubusercontent.com (raw.githubusercontent.com)... 185.199.108.133, 185.199.109.133, 185.199.110.133, ...\n",
            "Connecting to raw.githubusercontent.com (raw.githubusercontent.com)|185.199.108.133|:443... connected.\n",
            "HTTP request sent, awaiting response... 200 OK\n",
            "Length: 2988952 (2.8M) [application/octet-stream]\n",
            "Saving to: ‘testSet.mat’\n",
            "\n",
            "testSet.mat         100%[===================>]   2.85M  --.-KB/s    in 0.09s   \n",
            "\n",
            "2024-05-13 06:54:13 (31.5 MB/s) - ‘testSet.mat’ saved [2988952/2988952]\n",
            "\n"
          ]
        },
        {
          "output_type": "execute_result",
          "data": {
            "text/plain": [
              "((938,), (403,))"
            ]
          },
          "metadata": {},
          "execution_count": 41
        }
      ]
    },
    {
      "cell_type": "markdown",
      "source": [
        "HV follow HV"
      ],
      "metadata": {
        "id": "E3J4cgo07nWY"
      }
    },
    {
      "cell_type": "code",
      "source": [
        "# Download data\n",
        "!wget https://raw.githubusercontent.com/lovezoyaxu/car-following-model-in-mixtraffic/master/L1T100_waymo_train_data.mat --output-document=trainSet.mat\n",
        "!wget https://raw.githubusercontent.com/lovezoyaxu/car-following-model-in-mixtraffic/master/L1T100_waymo_test_data.mat --output-document=testSet.mat\n",
        "\n",
        "# load training data\n",
        "train = sio.loadmat('trainSet.mat')['calibrationData'][:, 0]\n",
        "test = sio.loadmat(f'testSet.mat')['validationData'][:, 0]\n",
        "\n",
        "# variable for the columns are [space, svSpd, relSpd, lvSpd], time interval is 0.1 seconds.\n",
        "# speed in m/s, space in m.\n",
        "train.shape, test.shape"
      ],
      "metadata": {
        "id": "uQUPUo-37tlq",
        "colab": {
          "base_uri": "https://localhost:8080/"
        },
        "outputId": "bc414696-5386-4635-f1a0-f8536715bdf4"
      },
      "execution_count": null,
      "outputs": [
        {
          "output_type": "stream",
          "name": "stdout",
          "text": [
            "--2024-05-16 07:48:54--  https://raw.githubusercontent.com/lovezoyaxu/car-following-model-in-mixtraffic/master/L1T100_waymo_train_data.mat\n",
            "Resolving raw.githubusercontent.com (raw.githubusercontent.com)... 185.199.109.133, 185.199.108.133, 185.199.110.133, ...\n",
            "Connecting to raw.githubusercontent.com (raw.githubusercontent.com)|185.199.109.133|:443... connected.\n",
            "HTTP request sent, awaiting response... 200 OK\n",
            "Length: 2111996 (2.0M) [application/octet-stream]\n",
            "Saving to: ‘trainSet.mat’\n",
            "\n",
            "trainSet.mat        100%[===================>]   2.01M  --.-KB/s    in 0.09s   \n",
            "\n",
            "2024-05-16 07:48:54 (22.7 MB/s) - ‘trainSet.mat’ saved [2111996/2111996]\n",
            "\n",
            "--2024-05-16 07:48:54--  https://raw.githubusercontent.com/lovezoyaxu/car-following-model-in-mixtraffic/master/L1T100_waymo_test_data.mat\n",
            "Resolving raw.githubusercontent.com (raw.githubusercontent.com)... 185.199.111.133, 185.199.108.133, 185.199.110.133, ...\n",
            "Connecting to raw.githubusercontent.com (raw.githubusercontent.com)|185.199.111.133|:443... connected.\n",
            "HTTP request sent, awaiting response... 200 OK\n",
            "Length: 556049 (543K) [application/octet-stream]\n",
            "Saving to: ‘testSet.mat’\n",
            "\n",
            "testSet.mat         100%[===================>] 543.02K  --.-KB/s    in 0.07s   \n",
            "\n",
            "2024-05-16 07:48:55 (8.09 MB/s) - ‘testSet.mat’ saved [556049/556049]\n",
            "\n"
          ]
        },
        {
          "output_type": "execute_result",
          "data": {
            "text/plain": [
              "((409,), (113,))"
            ]
          },
          "metadata": {},
          "execution_count": 2
        }
      ]
    },
    {
      "cell_type": "markdown",
      "source": [
        "Restrictions regarding car following"
      ],
      "metadata": {
        "id": "uaM1saOPNvuO"
      }
    },
    {
      "cell_type": "code",
      "source": [
        "ACC_LIMIT = 3 # the limit of acceleration, this can be calibrated based on the data\n",
        "Ts = 0.1 # time interval for data sampling"
      ],
      "metadata": {
        "id": "QawmtJGhNxrK"
      },
      "execution_count": null,
      "outputs": []
    },
    {
      "cell_type": "markdown",
      "source": [
        "### **GYM**"
      ],
      "metadata": {
        "id": "F_zy0HWxNzbU"
      }
    },
    {
      "cell_type": "code",
      "source": [
        "from gym.spaces import Box\n",
        "from copy import deepcopy\n",
        "\n",
        "class CarFolEnv(gym.Env):\n",
        "    def __init__(self, split = 'train', his_horizon = 10, collision_penalty = 1000):\n",
        "        \"\"\"\n",
        "        split: train or test dataset to use\n",
        "        his_horizon: number of time steps for history buffer\n",
        "        collision_penalty: reward penalty if there is a collision\n",
        "        \"\"\"\n",
        "        self.his_horizon = his_horizon  #Take ten data input together is better than a number, there is a certain time sequence\n",
        "        self.collision_penalty = collision_penalty\n",
        "        self.split = split\n",
        "\n",
        "        # Define obs and action space Used to enter the state and action dimensions for subsequent training\n",
        "        self.observation_space = Box(low = -np.inf, high = np.inf, shape = (3*self.his_horizon,), dtype = np.float32)\n",
        "        self.action_space = Box(low = -1, high = 1, shape = (1,), dtype = np.float32)\n",
        "\n",
        "    def reset(self):\n",
        "        # Randomly select an event from the datset\n",
        "        if self.split == 'train':\n",
        "            self.data = random.choice(train)\n",
        "            #self.data = train[0]\n",
        "        elif self.split == 'test':\n",
        "            self.data = random.choice(test)\n",
        "            #self.data = test[0]\n",
        "\n",
        "        self.lv_spd = self.data[:, -1]\n",
        "        self.frame = self.his_horizon # Frame starting from 1\n",
        "\n",
        "        self.sim_data = deepcopy(self.data[:, :-1])\n",
        "\n",
        "        # Input data for policy network, considering hisotry buffer\n",
        "        obs = self.sim_data[self.frame - self.his_horizon:self.frame].flatten() #\n",
        "\n",
        "        return obs #The space, svSpd, relSpd data from lines 0 to 9 of a sample in train data also put them in a row\n",
        "        # Mainly to find the initial state of the new trajectory\n",
        "\n",
        "    def step(self, action):\n",
        "        # TODO: Finish the car step function\n",
        "        # Given an acceleration, update car-following states\n",
        "\n",
        "        # Current simulated state\n",
        "        spacing, sv_spd, rel_spd = self.sim_data[self.frame - 1]\n",
        "\n",
        "        # Increase frame count\n",
        "        self.frame += 1\n",
        "\n",
        "        acceleration = action[0]\n",
        "\n",
        "        # Udpate state based on newton equation\n",
        "        sv_spd_ = max(0.001, sv_spd+acceleration*Ts)\n",
        "        rel_spd_ = self.lv_spd[self.frame - 1] - sv_spd_\n",
        "        spacing_ = spacing + Ts*(rel_spd + rel_spd_)/2\n",
        "\n",
        "        # Update sim_data\n",
        "        self.sim_data[self.frame -1] = np.asarray([spacing_, sv_spd_, rel_spd_])\n",
        "        obs = self.sim_data[self.frame - self.his_horizon:self.frame].flatten()\n",
        "\n",
        "        is_collision = True if spacing_ <= 0 else False\n",
        "        if is_collision or self.frame == len(self.data):\n",
        "          done = True\n",
        "        else:\n",
        "          done = False\n",
        "\n",
        "        # Calculating reward information\n",
        "        sv_spd_gt = self.data[self.frame - 1,1]\n",
        "        r = -np.log(np.abs(sv_spd_gt - sv_spd_)/sv_spd_gt) - is_collision*self.collision_penalty\n",
        "        info = {}\n",
        "\n",
        "        return obs, r, done, info\n",
        "\n"
      ],
      "metadata": {
        "id": "REhdRVk3N562"
      },
      "execution_count": null,
      "outputs": []
    },
    {
      "cell_type": "markdown",
      "source": [
        "### **Find expert data from the dataset**\n"
      ],
      "metadata": {
        "id": "wstGdOMDlqx2"
      }
    },
    {
      "cell_type": "code",
      "source": [
        "class GetExpData():\n",
        "    def __init__(self, split = 'train', his_horizon = 10, max_len = 141):\n",
        "        self.his_horizon = his_horizon\n",
        "        self.split = split\n",
        "        self.max_len = max_len\n",
        "        if self.split == 'train':\n",
        "            self.data = random.choice(train)\n",
        "        elif self.split == 'test':\n",
        "            self.data = random.choice(test)\n",
        "\n",
        "\n",
        "    #def __getitem__(self, idx: int):\n",
        "    def gen_exp(self):\n",
        "        event = self.data\n",
        "\n",
        "        self.acc_label = np.diff(event[:, 1])/Ts # acc\n",
        "        self.state_data = event[:-1, :-1]\n",
        "        self.segment = self.his_horizon\n",
        "\n",
        "        obs_state = []\n",
        "        obs_action = []\n",
        "\n",
        "        for epoch in range(len(self.acc_label)-10):\n",
        "            state_link = self.state_data[self.segment - self.his_horizon:self.segment].flatten()\n",
        "            action_link = self.acc_label[self.segment-1]\n",
        "\n",
        "\n",
        "            obs_state.append(state_link)\n",
        "            obs_action.append(action_link)\n",
        "\n",
        "            self.segment += 1\n",
        "\n",
        "        return obs_state, obs_action\n"
      ],
      "metadata": {
        "id": "C2g_D-fGnMmw"
      },
      "execution_count": null,
      "outputs": []
    },
    {
      "cell_type": "markdown",
      "source": [
        "### *PPO as a generator*"
      ],
      "metadata": {
        "id": "eH_sFaGaGUkK"
      }
    },
    {
      "cell_type": "markdown",
      "source": [
        "get advantage & for returen figure filter"
      ],
      "metadata": {
        "id": "G0XhtZhEKnLJ"
      }
    },
    {
      "cell_type": "code",
      "source": [
        "from tqdm import tqdm\n",
        "import collections\n",
        "\n",
        "\n",
        "def moving_average(a, window_size):\n",
        "    cumulative_sum = np.cumsum(np.insert(a, 0, 0))\n",
        "    middle = (cumulative_sum[window_size:] - cumulative_sum[:-window_size]) / window_size\n",
        "    r = np.arange(1, window_size-1, 2)\n",
        "    begin = np.cumsum(a[:window_size-1])[::2] / r\n",
        "    end = (np.cumsum(a[:-window_size:-1])[::2] / r)[::-1]\n",
        "    return np.concatenate((begin, middle, end))\n",
        "\n",
        "\n",
        "def compute_advantage(gamma, lmbda, td_delta):\n",
        "    td_delta = td_delta.detach().numpy()\n",
        "    advantage_list = []\n",
        "    advantage = 0.0\n",
        "    for delta in td_delta[::-1]:\n",
        "        advantage = gamma * lmbda * advantage + delta\n",
        "        advantage_list.append(advantage)\n",
        "    advantage_list.reverse()\n",
        "    return torch.tensor(advantage_list, dtype=torch.float)"
      ],
      "metadata": {
        "id": "WX3DW6jkKq0t"
      },
      "execution_count": null,
      "outputs": []
    },
    {
      "cell_type": "code",
      "execution_count": null,
      "metadata": {
        "id": "YU5H5-eiF2ew"
      },
      "outputs": [],
      "source": [
        "\n",
        "class PolicyNetContinuous(torch.nn.Module):\n",
        "\n",
        "    def __init__(self, state_dim, hidden_dim, action_dim):\n",
        "        super(PolicyNetContinuous, self).__init__()\n",
        "        self.fc1 = torch.nn.Linear(state_dim, hidden_dim)\n",
        "        self.fc2 = torch.nn.Linear(hidden_dim, hidden_dim)\n",
        "        self.fc3 = torch.nn.Linear(hidden_dim, hidden_dim)\n",
        "        self.fc_mu = torch.nn.Linear(hidden_dim, action_dim)\n",
        "        self.fc_std = torch.nn.Linear(hidden_dim, action_dim)\n",
        "\n",
        "    def forward(self, x):\n",
        "        x = F.relu(self.fc1(x))\n",
        "        x = F.relu(self.fc2(x))\n",
        "        x = F.relu(self.fc3(x))\n",
        "        mu = 2.0 * torch.tanh(self.fc_mu(x))\n",
        "        std = F.softplus(self.fc_std(x))\n",
        "        return mu, std\n",
        "\n",
        "\n",
        "class ValueNet(torch.nn.Module):\n",
        "    def __init__(self, state_dim, hidden_dim):\n",
        "        super(ValueNet, self).__init__()\n",
        "        self.fc1 = torch.nn.Linear(state_dim, hidden_dim)\n",
        "        self.fc2 = torch.nn.Linear(hidden_dim, hidden_dim)\n",
        "        self.fc3 = torch.nn.Linear(hidden_dim, hidden_dim)\n",
        "        self.fc4 = torch.nn.Linear(hidden_dim, 1)\n",
        "\n",
        "    def forward(self, x):\n",
        "        x = F.relu(self.fc1(x))\n",
        "        x = F.relu(self.fc2(x))\n",
        "        x = F.relu(self.fc3(x))\n",
        "        return self.fc4(x)\n",
        "\n",
        "\n",
        "class PPO:\n",
        "\n",
        "    def __init__(self, state_dim, hidden_dim, action_dim, actor_lr, critic_lr, lmbda, epochs, eps, gamma, device):\n",
        "\n",
        "        self.actor = PolicyNetContinuous(state_dim, hidden_dim, action_dim).to(device)\n",
        "        self.critic = ValueNet(state_dim, hidden_dim).to(device)\n",
        "        self.actor_optimizer = torch.optim.Adam(self.actor.parameters(),lr=actor_lr)\n",
        "        self.critic_optimizer = torch.optim.Adam(self.critic.parameters(),lr=critic_lr)\n",
        "\n",
        "        self.gamma = gamma\n",
        "        self.lmbda = lmbda\n",
        "        self.epochs = epochs\n",
        "        self.eps = eps\n",
        "        self.device = device\n",
        "\n",
        "    def take_action(self, state):\n",
        "        state = torch.tensor([state], dtype=torch.float).to(self.device)\n",
        "        mu, sigma = self.actor(state)\n",
        "        action_dist = torch.distributions.Normal(mu, sigma)\n",
        "        action = action_dist.sample()\n",
        "        return [action.item()]\n",
        "\n",
        "    def update(self, transition_dict):\n",
        "        states = torch.tensor(transition_dict['states'],dtype=torch.float).to(self.device)\n",
        "        actions = torch.tensor(transition_dict['actions']).view(-1, 1).to(self.device)\n",
        "        rewards = torch.tensor(transition_dict['rewards'],dtype=torch.float).view(-1, 1).to(self.device)\n",
        "        next_states = torch.tensor(transition_dict['next_states'],dtype=torch.float).to(self.device)\n",
        "        dones = torch.tensor(transition_dict['dones'],dtype=torch.float).view(-1, 1).to(self.device)\n",
        "\n",
        "        td_target = rewards + self.gamma * self.critic(next_states) * (1 - dones)\n",
        "        td_delta = td_target - self.critic(states)\n",
        "        advantage = compute_advantage(self.gamma, self.lmbda,td_delta.cpu()).to(self.device)\n",
        "        mu, std = self.actor(states)\n",
        "        action_dists = torch.distributions.Normal(mu.detach(), std.detach())\n",
        "\n",
        "        old_log_probs = action_dists.log_prob(actions)\n",
        "\n",
        "\n",
        "        for _ in range(self.epochs):\n",
        "            mu, std = self.actor(states)\n",
        "            action_dists = torch.distributions.Normal(mu, std)\n",
        "            log_probs = action_dists.log_prob(actions)\n",
        "            ratio = torch.exp(log_probs - old_log_probs)\n",
        "\n",
        "            surr1 = ratio * advantage\n",
        "            surr2 = torch.clamp(ratio, 1 - self.eps, 1 + self.eps) * advantage\n",
        "\n",
        "            actor_loss = torch.mean(-torch.min(surr1, surr2))\n",
        "            critic_loss = torch.mean(F.mse_loss(self.critic(states), td_target.detach()))\n",
        "\n",
        "            self.actor_optimizer.zero_grad()\n",
        "            self.critic_optimizer.zero_grad()\n",
        "            actor_loss.backward()\n",
        "            critic_loss.backward()\n",
        "            self.actor_optimizer.step()\n",
        "            self.critic_optimizer.step()\n",
        "\n"
      ]
    },
    {
      "cell_type": "markdown",
      "source": [
        "### **GAIL**"
      ],
      "metadata": {
        "id": "YDc-qrP3LedL"
      }
    },
    {
      "cell_type": "markdown",
      "source": [
        "Firstly, the discriminator model is implemented. The model architecture is a two-layer fully connected network. The input of the model is a state action pair and the output is a probability scalar."
      ],
      "metadata": {
        "id": "4VQgkmYkLgq-"
      }
    },
    {
      "cell_type": "code",
      "source": [
        "class Discriminator(nn.Module):\n",
        "    def __init__(self, state_dim, hidden_dim, action_dim):\n",
        "        super(Discriminator, self).__init__()\n",
        "        self.fc1 = torch.nn.Linear(state_dim + action_dim, hidden_dim)\n",
        "        self.fc2 = torch.nn.Linear(hidden_dim, hidden_dim)\n",
        "        self.fc3 = torch.nn.Linear(hidden_dim, hidden_dim)\n",
        "        self.fc4 = torch.nn.Linear(hidden_dim, 1)\n",
        "\n",
        "    def forward(self, x, a):\n",
        "        cat = torch.cat([x, a], dim=1)\n",
        "        x = F.relu(self.fc1(cat))\n",
        "        x = F.relu(self.fc2(x))\n",
        "        x = F.relu(self.fc3(x))\n",
        "        return torch.sigmoid(self.fc4(x))"
      ],
      "metadata": {
        "id": "3SnJ83xMLmHB"
      },
      "execution_count": null,
      "outputs": []
    },
    {
      "cell_type": "markdown",
      "source": [
        "The next step is to formally implement the GAIL code. In each iteration, the policies in GAIL interact with the environment, sampling new pairs of state actions. Based on the expert data and the newly sampled data of the strategy, the discriminator is trained first, and then the output of the discriminator is converted into the reward signal of the strategy, and the strategy is trained by PPO algorithm."
      ],
      "metadata": {
        "id": "4uyRC4ZTLyJa"
      }
    },
    {
      "cell_type": "code",
      "source": [
        "class GAIL:\n",
        "    def __init__(self, agent, state_dim, action_dim, hidden_dim, lr_d):\n",
        "        self.discriminator = Discriminator(state_dim, hidden_dim, action_dim).to(device)\n",
        "        self.discriminator_optimizer = torch.optim.Adam(self.discriminator.parameters(), lr=lr_d)\n",
        "        self.agent = agent\n",
        "\n",
        "    def learn(self, expert_s, expert_a, agent_s, agent_a, next_s, dones):\n",
        "        expert_states = torch.tensor(expert_s, dtype=torch.float).to(device)\n",
        "        expert_actions = torch.tensor(expert_a, dtype=torch.float).to(device)\n",
        "        agent_states = torch.tensor(agent_s, dtype=torch.float).to(device)\n",
        "        agent_actions = torch.tensor(agent_a, dtype=torch.float).to(device)\n",
        "\n",
        "        expert_prob = self.discriminator(expert_states, expert_actions)\n",
        "        agent_prob = self.discriminator(agent_states, agent_actions)\n",
        "        discriminator_loss = nn.BCELoss()(agent_prob, torch.ones_like(agent_prob)) + nn.BCELoss()(expert_prob, torch.zeros_like(expert_prob))\n",
        "\n",
        "        self.discriminator_optimizer.zero_grad()\n",
        "        discriminator_loss.backward()\n",
        "        self.discriminator_optimizer.step()\n",
        "\n",
        "        rewards = -torch.log(agent_prob).detach().cpu().numpy()\n",
        "        transition_dict = {\n",
        "            'states': agent_s,\n",
        "            'actions': agent_a,\n",
        "            'rewards': rewards,\n",
        "            'next_states': next_s,\n",
        "            'dones': dones\n",
        "        }\n",
        "        self.agent.update(transition_dict)\n",
        "\n",
        "\n"
      ],
      "metadata": {
        "id": "rWQ_IJYIL3mh"
      },
      "execution_count": null,
      "outputs": []
    },
    {
      "cell_type": "markdown",
      "source": [
        "### **training**"
      ],
      "metadata": {
        "id": "Bgfq_QaKL9mq"
      }
    },
    {
      "cell_type": "code",
      "source": [
        "actor_lr = 1e-6\n",
        "critic_lr = 1e-5\n",
        "num_episodes = 250\n",
        "hidden_dim = 896\n",
        "gamma = 0.98\n",
        "lmbda = 0.95\n",
        "epochs = 10\n",
        "eps = 0.2\n",
        "device = torch.device(\"cuda\") if torch.cuda.is_available() else torch.device(\"cpu\")\n",
        "\n",
        "\n",
        "env = CarFolEnv()\n",
        "env.seed(0)\n",
        "torch.manual_seed(0)\n",
        "state_dim = env.observation_space.shape[0]\n",
        "action_dim = env.action_space.shape[0]\n",
        "\n",
        "\n",
        "lr_d = 1e-3\n",
        "agent = PPO(state_dim, hidden_dim, action_dim, actor_lr, critic_lr, lmbda, epochs, eps, gamma, device)\n",
        "gail = GAIL(agent, state_dim, action_dim, hidden_dim, lr_d)\n",
        "n_episode = 1500\n",
        "return_list = []\n",
        "\n",
        "\n",
        "\n",
        "best_reward = -1000000\n",
        "model_type = 'actor'\n",
        "his_horizon = 10\n",
        "save = f'{model_type}_horizon{his_horizon}.pt'\n",
        "\n",
        "\n",
        "with tqdm(total=n_episode, desc=\"Progress bar\") as pbar:\n",
        "    for i in range(n_episode):\n",
        "        episode_return = 0\n",
        "        state = env.reset()\n",
        "        done = False\n",
        "        state_list = []\n",
        "        action_list = []\n",
        "        next_state_list = []\n",
        "        done_list = []\n",
        "        while not done:\n",
        "            action = agent.take_action(state)\n",
        "            next_state, reward, done, _ = env.step(action)\n",
        "            state_list.append(state)\n",
        "            action_list.append(action)\n",
        "            next_state_list.append(next_state)\n",
        "            done_list.append(done)\n",
        "            state = next_state\n",
        "            episode_return += reward\n",
        "        return_list.append(episode_return)\n",
        "        exp_dataset = GetExpData('train')\n",
        "        expert_s, expert_a = exp_dataset.gen_exp()\n",
        "\n",
        "        expert_s = [[float(x) for x in sublist] for sublist in expert_s]\n",
        "        expert_a = [[x] for x in expert_a]\n",
        "\n",
        "        gail.learn(expert_s, expert_a, state_list, action_list, next_state_list, done_list)\n",
        "\n",
        "        #Save the optimal agent model\n",
        "        if i > 1000:\n",
        "          if best_reward == -1000000 or best_reward < episode_return:\n",
        "              best_reward = episode_return\n",
        "\n",
        "              # save the best model\n",
        "              with open(save, 'wb') as f:\n",
        "                  torch.save(agent, f)\n",
        "\n",
        "        if (i + 1) % 10 == 0:\n",
        "            pbar.set_postfix({'return': '%.3f' % np.mean(return_list[-10:])})\n",
        "        pbar.update(1)\n",
        "\n",
        "\n",
        "print(best_reward)"
      ],
      "metadata": {
        "id": "HBeFCRcBL_dz"
      },
      "execution_count": null,
      "outputs": []
    },
    {
      "cell_type": "markdown",
      "source": [
        "### **The results of the training**"
      ],
      "metadata": {
        "id": "Bi038kgHZjTL"
      }
    },
    {
      "cell_type": "code",
      "source": [
        "iteration_list = list(range(len(return_list)))\n",
        "plt.plot(iteration_list, return_list)\n",
        "plt.xlabel('Episodes')\n",
        "plt.ylabel('Returns')\n",
        "#plt.title('GAIL on {}'.format(CarFolEnv))\n",
        "plt.title('GAIL on CarFolEnv')\n",
        "\n",
        "\n",
        "mv_return = moving_average(return_list, 21)\n",
        "plt.plot(iteration_list, mv_return)\n",
        "plt.xlabel('Episodes')\n",
        "plt.ylabel('Returns')\n",
        "plt.title('GAIL on CarFolEnv')\n",
        "plt.show()"
      ],
      "metadata": {
        "id": "gn1yTcsiMyvy"
      },
      "execution_count": null,
      "outputs": []
    },
    {
      "cell_type": "markdown",
      "source": [
        "### **Test agent performance**"
      ],
      "metadata": {
        "id": "3gmZKbjhCEUj"
      }
    },
    {
      "cell_type": "code",
      "source": [
        "# Load the best model saved\n",
        "with open(f'{save}', 'rb') as f:\n",
        "    test_agent = torch.load(f)\n",
        "\n",
        "env = CarFolEnv(split = 'test')\n",
        "\n",
        "transition_dict = {\n",
        "                'states': [],\n",
        "                'actions': [],\n",
        "                'next_states': [],\n",
        "                'rewards': [],\n",
        "                'dones': []\n",
        "            }\n",
        "\n",
        "obs = env.reset()\n",
        "done = False\n",
        "while not done:\n",
        "    action = test_agent.take_action(state)\n",
        "    next_state, reward, done, _ = env.step(action)\n",
        "    transition_dict['states'].append(state)\n",
        "    transition_dict['actions'].append(action)\n",
        "    transition_dict['next_states'].append(next_state)\n",
        "    transition_dict['rewards'].append(reward)\n",
        "    transition_dict['dones'].append(done)\n",
        "    state = next_state\n",
        "    if done == True: #done is the end of a path, it's time for the next path\n",
        "        break\n",
        "actions = transition_dict['actions']\n",
        "print(actions)\n"
      ],
      "metadata": {
        "colab": {
          "base_uri": "https://localhost:8080/"
        },
        "id": "wZOHfg-MCHVj",
        "outputId": "3c9dd650-000b-4df9-e40c-4c60d8aa2863"
      },
      "execution_count": null,
      "outputs": [
        {
          "output_type": "stream",
          "name": "stdout",
          "text": [
            "[[-0.6899957656860352], [0.08234521746635437], [0.5691064596176147], [-0.24841147661209106], [0.6083546280860901], [-1.2769960165023804], [0.11977452039718628], [1.638733983039856], [0.21410885453224182], [0.6406450867652893], [-0.02854016423225403], [-0.08928099274635315], [1.3239226341247559], [0.06949546933174133], [0.06687381863594055], [-0.437528520822525], [1.6168633699417114], [0.2486552745103836], [0.285962849855423], [0.8942396640777588], [0.4360724091529846], [0.6160249710083008], [2.17763090133667], [-0.389810174703598], [-0.13307003676891327], [-0.43955758213996887], [0.6509062051773071], [-0.37491098046302795], [0.3995526134967804], [0.6855423450469971], [-0.22276733815670013], [-1.1385009288787842], [-0.7198444604873657], [-0.019178643822669983], [1.0395445823669434], [0.674195408821106], [-1.0688390731811523], [-0.2955705225467682], [0.3019979000091553], [1.2781851291656494], [0.34176620841026306], [-0.02197575569152832], [0.17489802837371826], [-2.165041446685791], [-0.3600386083126068], [0.49056631326675415], [0.12521779537200928], [0.41884419322013855], [-0.7936145067214966], [-0.3563633859157562], [-2.53049635887146], [0.8493257164955139], [-0.06999945640563965], [-0.19986598193645477], [-0.9435546398162842], [0.919950008392334], [0.2563456892967224], [1.1272941827774048], [-0.11432546377182007], [-1.041792869567871], [-0.06505969166755676], [0.7207041382789612], [0.333560049533844], [1.9447816610336304], [-2.0367767810821533], [-0.6812094449996948], [-0.9873780012130737], [0.6075166463851929], [-0.6439160108566284], [0.010208427906036377], [-1.1287873983383179], [1.2186309099197388], [1.3742982149124146], [-0.4015800952911377], [0.5442562103271484], [0.6146266460418701], [0.32061806321144104], [0.021309789270162582], [-0.1286724954843521], [-0.9127795100212097], [-1.2671535015106201], [0.061096370220184326], [0.8697292804718018], [0.6922409534454346], [-1.0791151523590088], [-0.12451988458633423], [-0.37757518887519836], [0.576542854309082], [1.6494152545928955], [1.08861243724823], [-0.25731080770492554], [-1.5133098363876343], [0.7527572512626648], [1.413964033126831], [1.3993877172470093], [0.34263741970062256], [-0.15768323838710785], [0.7391778230667114], [0.806806743144989], [1.3237662315368652], [0.16819053888320923], [0.6746479272842407], [0.4668656587600708], [-0.8211448192596436], [-0.9331241250038147], [2.222323417663574], [0.8723542094230652], [1.462585210800171], [-1.611977458000183], [1.803978443145752], [-0.6659185290336609], [1.5908560752868652], [-0.31012144684791565], [-0.8755193948745728], [0.30765581130981445], [-0.9820699691772461], [-0.10501852631568909], [0.07740792632102966], [1.9323816299438477], [0.6691392660140991], [1.6960419416427612], [0.27399271726608276], [0.41713693737983704], [-0.21307867765426636], [1.0882306098937988], [0.8568745851516724], [-0.017077147960662842], [0.9689235687255859], [-0.041114211082458496], [0.8309017419815063], [2.6387884616851807], [-1.394274353981018], [-0.05978959798812866], [1.0661334991455078], [-0.424773633480072], [1.8465672731399536], [0.237056702375412], [-0.02829509973526001], [-0.1985386610031128], [0.8495653867721558], [1.0046191215515137], [2.885694980621338], [2.5370750427246094], [0.9233200550079346], [3.0451653003692627], [0.15396690368652344], [1.4317419528961182], [1.3822169303894043], [0.03674173355102539], [0.6350818872451782], [0.3628635108470917], [1.297349452972412], [0.26903849840164185], [0.14052224159240723], [-0.1422451138496399], [2.1799845695495605], [0.4926561713218689], [0.4834563136100769], [2.562828779220581], [-1.4273208379745483], [0.8479002118110657], [2.6405487060546875], [-0.7204785346984863], [1.796046257019043], [-1.239433765411377], [2.3866279125213623], [1.429131031036377], [0.6558911800384521], [-1.4280906915664673], [1.8829776048660278], [-0.8178303837776184], [3.401289463043213], [0.5504943132400513], [0.8571038246154785], [-0.18702572584152222], [-1.770632028579712], [3.0913102626800537], [-2.2218081951141357], [0.2506815195083618], [4.4987568855285645], [-0.06272649765014648]]\n"
          ]
        }
      ]
    },
    {
      "cell_type": "markdown",
      "source": [
        "figure"
      ],
      "metadata": {
        "id": "cxX0nq8dCQ9u"
      }
    },
    {
      "cell_type": "code",
      "source": [
        "spacing_obs, spacing_sim = env.data[:, 0], env.sim_data[:, 0]\n",
        "sv_spd_obs, sv_spd_sim = env.data[:, 1], env.sim_data[:, 1]\n",
        "\n",
        "# plot for one event\n",
        "plt.plot(spacing_obs, label = 'GT')\n",
        "plt.plot(spacing_sim, '--', label = 'Prediction')\n",
        "plt.legend()\n",
        "plt.xlabel(f'Time ({Ts}s)');\n",
        "plt.ylabel('Spacing (m)');\n",
        "\n",
        "# speed part\n",
        "plt.figure()\n",
        "plt.plot(sv_spd_obs, label = 'GT')\n",
        "plt.plot(sv_spd_sim, '--', label = 'Prediction')\n",
        "plt.legend()\n",
        "plt.xlabel(f'Time ({Ts}s)');\n",
        "plt.ylabel('SV speed (m/s)');\n",
        "\n",
        "mse_spacing = np.mean((spacing_sim - spacing_obs)**2)\n",
        "print(mse_spacing)"
      ],
      "metadata": {
        "colab": {
          "base_uri": "https://localhost:8080/",
          "height": 899
        },
        "id": "OWAi_6I-CR9m",
        "outputId": "64de2c4c-1f19-48d5-e238-406de85bc9fd"
      },
      "execution_count": null,
      "outputs": [
        {
          "output_type": "stream",
          "name": "stdout",
          "text": [
            "27.02926641536871\n"
          ]
        },
        {
          "output_type": "display_data",
          "data": {
            "text/plain": [
              "<Figure size 640x480 with 1 Axes>"
            ],
            "image/png": "[encoded data removed]"
          },
          "metadata": {}
        },
        {
          "output_type": "display_data",
          "data": {
            "text/plain": [
              "<Figure size 640x480 with 1 Axes>"
            ],
            "image/png": "[encoded data removed]"
          },
          "metadata": {}
        }
      ]
    }
  ]
}